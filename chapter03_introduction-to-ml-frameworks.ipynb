{
  "cells": [
    {
      "cell_type": "markdown",
      "metadata": {
        "id": "rziSgYGBvWWo"
      },
      "source": [
        "This is a companion notebook for the book [Deep Learning with Python, Third Edition](https://www.manning.com/books/deep-learning-with-python-third-edition). For readability, it only contains runnable code blocks and section titles, and omits everything else in the book: text paragraphs, figures, and pseudocode.\n",
        "\n",
        "**If you want to be able to follow what's going on, I recommend reading the notebook side by side with your copy of the book.**\n",
        "\n",
        "The book's contents are available online at [deeplearningwithpython.io](https://deeplearningwithpython.io)."
      ]
    },
    {
      "cell_type": "code",
      "execution_count": 2,
      "metadata": {
        "id": "aV3GiVR0vWWp"
      },
      "outputs": [],
      "source": [
        "!pip install keras keras-hub keras-hub --upgrade -q"
      ]
    },
    {
      "cell_type": "code",
      "execution_count": 3,
      "metadata": {
        "id": "vSky8bWPvWWq"
      },
      "outputs": [],
      "source": [
        "import os\n",
        "os.environ[\"KERAS_BACKEND\"] = \"jax\""
      ]
    },
    {
      "cell_type": "code",
      "execution_count": null,
      "metadata": {
        "cellView": "form",
        "id": "66nBWamgvWWq"
      },
      "outputs": [],
      "source": [
        "# @title\n",
        "import os\n",
        "from IPython.core.magic import register_cell_magic\n",
        "\n",
        "@register_cell_magic\n",
        "def backend(line, cell):\n",
        "    current, required = os.environ.get(\"KERAS_BACKEND\", \"\"), line.split()[-1]\n",
        "    if current == required:\n",
        "        get_ipython().run_cell(cell)\n",
        "    else:\n",
        "        print(\n",
        "            f\"This cell requires the {required} backend. To run it, change KERAS_BACKEND to \"\n",
        "            f\"\\\"{required}\\\" at the top of the notebook, restart the runtime, and rerun the notebook.\"\n",
        "        )"
      ]
    },
    {
      "cell_type": "markdown",
      "metadata": {
        "id": "MmXsLuZzvWWq"
      },
      "source": [
        "## Introduction to TensorFlow, PyTorch, JAX, and Keras"
      ]
    },
    {
      "cell_type": "markdown",
      "metadata": {
        "id": "gHGRTchyvWWq"
      },
      "source": [
        "### A brief history of deep learning frameworks"
      ]
    },
    {
      "cell_type": "markdown",
      "metadata": {
        "id": "34lC3fpJvWWq"
      },
      "source": [
        "### How these frameworks relate to each other"
      ]
    },
    {
      "cell_type": "markdown",
      "metadata": {
        "id": "Uz9oVrXUvWWr"
      },
      "source": [
        "### Introduction to TensorFlow"
      ]
    },
    {
      "cell_type": "markdown",
      "metadata": {
        "id": "Tpl_p9JWvWWr"
      },
      "source": [
        "#### First steps with TensorFlow"
      ]
    },
    {
      "cell_type": "markdown",
      "metadata": {
        "id": "1QCb_V-evWWr"
      },
      "source": [
        "##### Tensors and variables in TensorFlow"
      ]
    },
    {
      "cell_type": "markdown",
      "metadata": {
        "id": "80FpzFDDvWWr"
      },
      "source": [
        "###### Constant tensors"
      ]
    },
    {
      "cell_type": "code",
      "execution_count": 4,
      "metadata": {
        "id": "yXB0DgI7vWWr",
        "outputId": "9367c0d2-bfe2-4a1d-caf5-cf1a69a2150e",
        "colab": {
          "base_uri": "https://localhost:8080/"
        }
      },
      "outputs": [
        {
          "output_type": "execute_result",
          "data": {
            "text/plain": [
              "<tf.Tensor: shape=(2, 1), dtype=float32, numpy=\n",
              "array([[1.],\n",
              "       [1.]], dtype=float32)>"
            ]
          },
          "metadata": {},
          "execution_count": 4
        }
      ],
      "source": [
        "import tensorflow as tf\n",
        "tf.ones(shape=(2, 1))"
      ]
    },
    {
      "cell_type": "code",
      "execution_count": 5,
      "metadata": {
        "id": "2eN2f2J2vWWr",
        "outputId": "be259c8e-76d8-4091-a130-ef3889ae6dd3",
        "colab": {
          "base_uri": "https://localhost:8080/"
        }
      },
      "outputs": [
        {
          "output_type": "execute_result",
          "data": {
            "text/plain": [
              "<tf.Tensor: shape=(2, 1), dtype=float32, numpy=\n",
              "array([[0.],\n",
              "       [0.]], dtype=float32)>"
            ]
          },
          "metadata": {},
          "execution_count": 5
        }
      ],
      "source": [
        "tf.zeros(shape=(2, 1))"
      ]
    },
    {
      "cell_type": "code",
      "execution_count": 6,
      "metadata": {
        "id": "knr8TwOBvWWr",
        "outputId": "3df124c7-ae69-450f-ee5f-79db6ddf3fb2",
        "colab": {
          "base_uri": "https://localhost:8080/"
        }
      },
      "outputs": [
        {
          "output_type": "execute_result",
          "data": {
            "text/plain": [
              "<tf.Tensor: shape=(3,), dtype=float32, numpy=array([1., 2., 3.], dtype=float32)>"
            ]
          },
          "metadata": {},
          "execution_count": 6
        }
      ],
      "source": [
        "tf.constant([1, 2, 3], dtype=\"float32\")"
      ]
    },
    {
      "cell_type": "markdown",
      "metadata": {
        "id": "S0b6nUTfvWWr"
      },
      "source": [
        "###### Random tensors"
      ]
    },
    {
      "cell_type": "code",
      "execution_count": 7,
      "metadata": {
        "id": "_R91COdtvWWr",
        "outputId": "1b562c26-accd-4f7e-910b-e1cd6134f5f6",
        "colab": {
          "base_uri": "https://localhost:8080/"
        }
      },
      "outputs": [
        {
          "output_type": "stream",
          "name": "stdout",
          "text": [
            "tf.Tensor(\n",
            "[[ 0.7564389]\n",
            " [ 0.9336878]\n",
            " [-0.9976937]], shape=(3, 1), dtype=float32)\n"
          ]
        }
      ],
      "source": [
        "x = tf.random.normal(shape=(3, 1), mean=0., stddev=1.)\n",
        "print(x)"
      ]
    },
    {
      "cell_type": "code",
      "execution_count": 8,
      "metadata": {
        "id": "YehiJjmovWWr",
        "outputId": "fb2c33c8-189d-4f16-f1a6-b32e5dfecf35",
        "colab": {
          "base_uri": "https://localhost:8080/"
        }
      },
      "outputs": [
        {
          "output_type": "stream",
          "name": "stdout",
          "text": [
            "tf.Tensor(\n",
            "[[0.04880214]\n",
            " [0.36398375]\n",
            " [0.3354776 ]], shape=(3, 1), dtype=float32)\n"
          ]
        }
      ],
      "source": [
        "x = tf.random.uniform(shape=(3, 1), minval=0., maxval=1.)\n",
        "print(x)"
      ]
    },
    {
      "cell_type": "markdown",
      "metadata": {
        "id": "riNvMul9vWWr"
      },
      "source": [
        "###### Tensor assignment and the Variable class"
      ]
    },
    {
      "cell_type": "code",
      "execution_count": 9,
      "metadata": {
        "id": "VeQCIJ_EvWWr"
      },
      "outputs": [],
      "source": [
        "import numpy as np\n",
        "\n",
        "x = np.ones(shape=(2, 2))\n",
        "x[0, 0] = 0.0"
      ]
    },
    {
      "cell_type": "code",
      "execution_count": 10,
      "metadata": {
        "id": "hXHg6rG6vWWr",
        "outputId": "92b5864c-8afc-4653-e458-adabf5c4697e",
        "colab": {
          "base_uri": "https://localhost:8080/"
        }
      },
      "outputs": [
        {
          "output_type": "stream",
          "name": "stdout",
          "text": [
            "<tf.Variable 'Variable:0' shape=(3, 1) dtype=float32, numpy=\n",
            "array([[-0.136294  ],\n",
            "       [-0.27009735],\n",
            "       [ 1.1261898 ]], dtype=float32)>\n"
          ]
        }
      ],
      "source": [
        "v = tf.Variable(initial_value=tf.random.normal(shape=(3, 1)))\n",
        "print(v)"
      ]
    },
    {
      "cell_type": "code",
      "execution_count": 11,
      "metadata": {
        "id": "GxCSMZ8wvWWr",
        "outputId": "f133b59c-56e9-4860-d952-95946d84bfdd",
        "colab": {
          "base_uri": "https://localhost:8080/"
        }
      },
      "outputs": [
        {
          "output_type": "execute_result",
          "data": {
            "text/plain": [
              "<tf.Variable 'UnreadVariable' shape=(3, 1) dtype=float32, numpy=\n",
              "array([[1.],\n",
              "       [1.],\n",
              "       [1.]], dtype=float32)>"
            ]
          },
          "metadata": {},
          "execution_count": 11
        }
      ],
      "source": [
        "v.assign(tf.ones((3, 1)))"
      ]
    },
    {
      "cell_type": "code",
      "execution_count": 12,
      "metadata": {
        "id": "d27S5UN5vWWr",
        "outputId": "2764b06a-12ef-4f02-a900-969acb5badf3",
        "colab": {
          "base_uri": "https://localhost:8080/"
        }
      },
      "outputs": [
        {
          "output_type": "execute_result",
          "data": {
            "text/plain": [
              "<tf.Variable 'UnreadVariable' shape=(3, 1) dtype=float32, numpy=\n",
              "array([[3.],\n",
              "       [1.],\n",
              "       [1.]], dtype=float32)>"
            ]
          },
          "metadata": {},
          "execution_count": 12
        }
      ],
      "source": [
        "v[0, 0].assign(3.)"
      ]
    },
    {
      "cell_type": "code",
      "execution_count": 13,
      "metadata": {
        "id": "fmV-4kbhvWWr",
        "outputId": "390db5a1-b041-4693-d4ce-d69c1bbb110d",
        "colab": {
          "base_uri": "https://localhost:8080/"
        }
      },
      "outputs": [
        {
          "output_type": "execute_result",
          "data": {
            "text/plain": [
              "<tf.Variable 'UnreadVariable' shape=(3, 1) dtype=float32, numpy=\n",
              "array([[4.],\n",
              "       [2.],\n",
              "       [2.]], dtype=float32)>"
            ]
          },
          "metadata": {},
          "execution_count": 13
        }
      ],
      "source": [
        "v.assign_add(tf.ones((3, 1)))"
      ]
    },
    {
      "cell_type": "markdown",
      "metadata": {
        "id": "FzzVK3kQvWWs"
      },
      "source": [
        "##### Tensor operations: Doing math in TensorFlow"
      ]
    },
    {
      "cell_type": "code",
      "execution_count": 14,
      "metadata": {
        "id": "IAaid_NFvWWs"
      },
      "outputs": [],
      "source": [
        "a = tf.ones((2, 2))\n",
        "b = tf.square(a)\n",
        "c = tf.sqrt(a)\n",
        "d = b + c\n",
        "e = tf.matmul(a, b)\n",
        "f = tf.concat((a, b), axis=0)"
      ]
    },
    {
      "cell_type": "code",
      "source": [
        "print(a)\n",
        "print(b)\n",
        "print(c)\n",
        "print(d)\n",
        "print(e)\n",
        "print(f)"
      ],
      "metadata": {
        "id": "VJcy0FOO0eEh",
        "outputId": "30339584-8887-4bd9-8950-26eae70f3774",
        "colab": {
          "base_uri": "https://localhost:8080/"
        }
      },
      "execution_count": 15,
      "outputs": [
        {
          "output_type": "stream",
          "name": "stdout",
          "text": [
            "tf.Tensor(\n",
            "[[1. 1.]\n",
            " [1. 1.]], shape=(2, 2), dtype=float32)\n",
            "tf.Tensor(\n",
            "[[1. 1.]\n",
            " [1. 1.]], shape=(2, 2), dtype=float32)\n",
            "tf.Tensor(\n",
            "[[1. 1.]\n",
            " [1. 1.]], shape=(2, 2), dtype=float32)\n",
            "tf.Tensor(\n",
            "[[2. 2.]\n",
            " [2. 2.]], shape=(2, 2), dtype=float32)\n",
            "tf.Tensor(\n",
            "[[2. 2.]\n",
            " [2. 2.]], shape=(2, 2), dtype=float32)\n",
            "tf.Tensor(\n",
            "[[1. 1.]\n",
            " [1. 1.]\n",
            " [1. 1.]\n",
            " [1. 1.]], shape=(4, 2), dtype=float32)\n"
          ]
        }
      ]
    },
    {
      "cell_type": "code",
      "execution_count": 18,
      "metadata": {
        "id": "f6I-VIvkvWWs"
      },
      "outputs": [],
      "source": [
        "def dense(inputs, W, b):\n",
        "    return tf.nn.relu(tf.matmul(inputs, W) + b)"
      ]
    },
    {
      "cell_type": "markdown",
      "metadata": {
        "id": "TPEsr_xxvWWs"
      },
      "source": [
        "##### Gradients in TensorFlow: A second look at the GradientTape API"
      ]
    },
    {
      "cell_type": "code",
      "execution_count": 26,
      "metadata": {
        "id": "Zannp50MvWWs",
        "outputId": "54c9e160-6e44-42e9-db59-9edaf22cbd11",
        "colab": {
          "base_uri": "https://localhost:8080/"
        }
      },
      "outputs": [
        {
          "output_type": "execute_result",
          "data": {
            "text/plain": [
              "<tf.Tensor: shape=(), dtype=float32, numpy=10.0>"
            ]
          },
          "metadata": {},
          "execution_count": 26
        }
      ],
      "source": [
        "input_var = tf.Variable(initial_value=5.0)\n",
        "with tf.GradientTape() as tape:\n",
        "    result = tf.square(input_var)\n",
        "gradient = tape.gradient(result, input_var)\n",
        "gradient"
      ]
    },
    {
      "cell_type": "code",
      "execution_count": 27,
      "metadata": {
        "id": "lJAl65ALvWWs",
        "outputId": "d54aafea-f255-4db2-f0ba-a40ba9b8b2e9",
        "colab": {
          "base_uri": "https://localhost:8080/"
        }
      },
      "outputs": [
        {
          "output_type": "execute_result",
          "data": {
            "text/plain": [
              "<tf.Tensor: shape=(), dtype=float32, numpy=6.0>"
            ]
          },
          "metadata": {},
          "execution_count": 27
        }
      ],
      "source": [
        "input_const = tf.constant(3.0)\n",
        "with tf.GradientTape() as tape:\n",
        "    tape.watch(input_const)\n",
        "    result = tf.square(input_const)\n",
        "gradient = tape.gradient(result, input_const)\n",
        "gradient"
      ]
    },
    {
      "cell_type": "code",
      "execution_count": 28,
      "metadata": {
        "id": "7jWd2epGvWWs",
        "outputId": "bde1d957-340a-4ce1-f219-43db2ab170f4",
        "colab": {
          "base_uri": "https://localhost:8080/"
        }
      },
      "outputs": [
        {
          "output_type": "execute_result",
          "data": {
            "text/plain": [
              "<tf.Tensor: shape=(), dtype=float32, numpy=9.800000190734863>"
            ]
          },
          "metadata": {},
          "execution_count": 28
        }
      ],
      "source": [
        "time = tf.Variable(0.0)\n",
        "with tf.GradientTape() as outer_tape:\n",
        "    with tf.GradientTape() as inner_tape:\n",
        "        position = 4.9 * time**2\n",
        "    speed = inner_tape.gradient(position, time)\n",
        "acceleration = outer_tape.gradient(speed, time)\n",
        "acceleration"
      ]
    },
    {
      "cell_type": "markdown",
      "metadata": {
        "id": "qhUDEPO9vWWs"
      },
      "source": [
        "##### Making TensorFlow functions fast using compilation"
      ]
    },
    {
      "cell_type": "code",
      "execution_count": 29,
      "metadata": {
        "id": "OY9P_ChtvWWs"
      },
      "outputs": [],
      "source": [
        "@tf.function  # graph mode\n",
        "def dense(inputs, W, b):\n",
        "    return tf.nn.relu(tf.matmul(inputs, W) + b)"
      ]
    },
    {
      "cell_type": "code",
      "execution_count": 30,
      "metadata": {
        "id": "j5TYr5KEvWWs"
      },
      "outputs": [],
      "source": [
        "@tf.function(jit_compile=True)  # XLA\n",
        "def dense(inputs, W, b):\n",
        "    return tf.nn.relu(tf.matmul(inputs, W) + b)"
      ]
    },
    {
      "cell_type": "markdown",
      "metadata": {
        "id": "eN0YkeTRvWWs"
      },
      "source": [
        "#### An end-to-end example: A linear classifier in pure TensorFlow"
      ]
    },
    {
      "cell_type": "code",
      "execution_count": 31,
      "metadata": {
        "id": "FwF_QGEavWWs"
      },
      "outputs": [],
      "source": [
        "import numpy as np\n",
        "\n",
        "num_samples_per_class = 1000\n",
        "negative_samples = np.random.multivariate_normal(\n",
        "    mean=[0, 3], cov=[[1, 0.5], [0.5, 1]], size=num_samples_per_class\n",
        ")\n",
        "positive_samples = np.random.multivariate_normal(\n",
        "    mean=[3, 0], cov=[[1, 0.5], [0.5, 1]], size=num_samples_per_class\n",
        ")"
      ]
    },
    {
      "cell_type": "code",
      "source": [
        "negative_samples.shape"
      ],
      "metadata": {
        "id": "2eHv6Bvy4PpQ",
        "outputId": "c67907d0-079f-4ed8-e201-c1b2474139ba",
        "colab": {
          "base_uri": "https://localhost:8080/"
        }
      },
      "execution_count": 32,
      "outputs": [
        {
          "output_type": "execute_result",
          "data": {
            "text/plain": [
              "(1000, 2)"
            ]
          },
          "metadata": {},
          "execution_count": 32
        }
      ]
    },
    {
      "cell_type": "code",
      "source": [
        "negative_samples[:3]"
      ],
      "metadata": {
        "id": "tfYS6bTz4TQP",
        "outputId": "428bf4f0-f913-41d5-ff7e-b3c9909c3624",
        "colab": {
          "base_uri": "https://localhost:8080/"
        }
      },
      "execution_count": 34,
      "outputs": [
        {
          "output_type": "execute_result",
          "data": {
            "text/plain": [
              "array([[ 0.48759497,  2.87598623],\n",
              "       [ 0.48307448,  4.5590324 ],\n",
              "       [-0.58826228,  3.35934004]])"
            ]
          },
          "metadata": {},
          "execution_count": 34
        }
      ]
    },
    {
      "cell_type": "code",
      "execution_count": 35,
      "metadata": {
        "id": "gJMjnLVvvWWs"
      },
      "outputs": [],
      "source": [
        "inputs = np.vstack((negative_samples, positive_samples)).astype(np.float32)"
      ]
    },
    {
      "cell_type": "code",
      "source": [
        "inputs.shape"
      ],
      "metadata": {
        "id": "YXe87Aao4v3H",
        "outputId": "a497c7ba-ebca-4c71-d3e1-a1c18f24d310",
        "colab": {
          "base_uri": "https://localhost:8080/"
        }
      },
      "execution_count": 36,
      "outputs": [
        {
          "output_type": "execute_result",
          "data": {
            "text/plain": [
              "(2000, 2)"
            ]
          },
          "metadata": {},
          "execution_count": 36
        }
      ]
    },
    {
      "cell_type": "code",
      "execution_count": 37,
      "metadata": {
        "id": "B6ByXApmvWWs"
      },
      "outputs": [],
      "source": [
        "targets = np.vstack(\n",
        "    (\n",
        "        np.zeros((num_samples_per_class, 1), dtype=\"float32\"),\n",
        "        np.ones((num_samples_per_class, 1), dtype=\"float32\"),\n",
        "    )\n",
        ")"
      ]
    },
    {
      "cell_type": "code",
      "execution_count": 38,
      "metadata": {
        "id": "HwMqLcm_vWWs",
        "outputId": "af5db954-88af-4194-9b6d-5dab1b9dc408",
        "colab": {
          "base_uri": "https://localhost:8080/",
          "height": 430
        }
      },
      "outputs": [
        {
          "output_type": "display_data",
          "data": {
            "text/plain": [
              "<Figure size 640x480 with 1 Axes>"
            ],
            "image/png": "[encoded data removed]"
          },
          "metadata": {}
        }
      ],
      "source": [
        "import matplotlib.pyplot as plt\n",
        "\n",
        "plt.scatter(inputs[:, 0], inputs[:, 1], c=targets[:, 0])\n",
        "plt.show()"
      ]
    },
    {
      "cell_type": "code",
      "execution_count": 39,
      "metadata": {
        "id": "eqII-9r5vWWs"
      },
      "outputs": [],
      "source": [
        "input_dim = 2\n",
        "output_dim = 1\n",
        "W = tf.Variable(initial_value=tf.random.uniform(shape=(input_dim, output_dim)))\n",
        "b = tf.Variable(initial_value=tf.zeros(shape=(output_dim,)))"
      ]
    },
    {
      "cell_type": "code",
      "source": [
        "print(W.shape)\n",
        "print(W)\n",
        "print(b.shape)\n",
        "print(b)"
      ],
      "metadata": {
        "id": "kwFCwEi25pOS",
        "outputId": "301f02d0-aabe-463a-bb33-6478f03ad71a",
        "colab": {
          "base_uri": "https://localhost:8080/"
        }
      },
      "execution_count": 41,
      "outputs": [
        {
          "output_type": "stream",
          "name": "stdout",
          "text": [
            "(2, 1)\n",
            "<tf.Variable 'Variable:0' shape=(2, 1) dtype=float32, numpy=\n",
            "array([[0.46915138],\n",
            "       [0.62540555]], dtype=float32)>\n",
            "(1,)\n",
            "<tf.Variable 'Variable:0' shape=(1,) dtype=float32, numpy=array([0.], dtype=float32)>\n"
          ]
        }
      ]
    },
    {
      "cell_type": "code",
      "execution_count": 42,
      "metadata": {
        "id": "onqeG2vLvWWv"
      },
      "outputs": [],
      "source": [
        "def model(inputs, W, b):\n",
        "    return tf.matmul(inputs, W) + b"
      ]
    },
    {
      "cell_type": "code",
      "execution_count": 43,
      "metadata": {
        "id": "ngip0DqQvWWv"
      },
      "outputs": [],
      "source": [
        "def mean_squared_error(targets, predictions):\n",
        "    per_sample_losses = tf.square(targets - predictions)\n",
        "    return tf.reduce_mean(per_sample_losses)"
      ]
    },
    {
      "cell_type": "code",
      "execution_count": 44,
      "metadata": {
        "id": "OVZ3VbfAvWWv"
      },
      "outputs": [],
      "source": [
        "learning_rate = 0.1\n",
        "\n",
        "@tf.function(jit_compile=True)\n",
        "def training_step(inputs, targets, W, b):\n",
        "    with tf.GradientTape() as tape:\n",
        "        predictions = model(inputs, W, b)\n",
        "        loss = mean_squared_error(predictions, targets)\n",
        "    grad_loss_wrt_W, grad_loss_wrt_b = tape.gradient(loss, [W, b])\n",
        "    W.assign_sub(grad_loss_wrt_W * learning_rate)\n",
        "    b.assign_sub(grad_loss_wrt_b * learning_rate)\n",
        "    return loss"
      ]
    },
    {
      "cell_type": "code",
      "execution_count": 45,
      "metadata": {
        "id": "XZfjTad_vWWv",
        "outputId": "967001f3-ec87-45f7-9226-133363bf086f",
        "colab": {
          "base_uri": "https://localhost:8080/"
        }
      },
      "outputs": [
        {
          "output_type": "stream",
          "name": "stdout",
          "text": [
            "Loss at step 0: 2.7353\n",
            "Loss at step 1: 0.3801\n",
            "Loss at step 2: 0.1538\n",
            "Loss at step 3: 0.1192\n",
            "Loss at step 4: 0.1082\n",
            "Loss at step 5: 0.1007\n",
            "Loss at step 6: 0.0941\n",
            "Loss at step 7: 0.0882\n",
            "Loss at step 8: 0.0827\n",
            "Loss at step 9: 0.0777\n",
            "Loss at step 10: 0.0732\n",
            "Loss at step 11: 0.0690\n",
            "Loss at step 12: 0.0652\n",
            "Loss at step 13: 0.0618\n",
            "Loss at step 14: 0.0586\n",
            "Loss at step 15: 0.0557\n",
            "Loss at step 16: 0.0530\n",
            "Loss at step 17: 0.0506\n",
            "Loss at step 18: 0.0484\n",
            "Loss at step 19: 0.0464\n",
            "Loss at step 20: 0.0445\n",
            "Loss at step 21: 0.0428\n",
            "Loss at step 22: 0.0413\n",
            "Loss at step 23: 0.0399\n",
            "Loss at step 24: 0.0386\n",
            "Loss at step 25: 0.0374\n",
            "Loss at step 26: 0.0363\n",
            "Loss at step 27: 0.0353\n",
            "Loss at step 28: 0.0344\n",
            "Loss at step 29: 0.0336\n",
            "Loss at step 30: 0.0328\n",
            "Loss at step 31: 0.0322\n",
            "Loss at step 32: 0.0315\n",
            "Loss at step 33: 0.0310\n",
            "Loss at step 34: 0.0304\n",
            "Loss at step 35: 0.0299\n",
            "Loss at step 36: 0.0295\n",
            "Loss at step 37: 0.0291\n",
            "Loss at step 38: 0.0287\n",
            "Loss at step 39: 0.0284\n"
          ]
        }
      ],
      "source": [
        "for step in range(40):\n",
        "    loss = training_step(inputs, targets, W, b)\n",
        "    print(f\"Loss at step {step}: {loss:.4f}\")"
      ]
    },
    {
      "cell_type": "code",
      "execution_count": 46,
      "metadata": {
        "id": "tA6nylO3vWWv",
        "outputId": "ee0cf1c5-e021-4758-e41e-c652f851fa16",
        "colab": {
          "base_uri": "https://localhost:8080/",
          "height": 430
        }
      },
      "outputs": [
        {
          "output_type": "display_data",
          "data": {
            "text/plain": [
              "<Figure size 640x480 with 1 Axes>"
            ],
            "image/png": "[encoded data removed]"
          },
          "metadata": {}
        }
      ],
      "source": [
        "predictions = model(inputs, W, b)\n",
        "plt.scatter(inputs[:, 0], inputs[:, 1], c=predictions[:, 0] > 0.5)\n",
        "plt.show()"
      ]
    },
    {
      "cell_type": "code",
      "execution_count": 47,
      "metadata": {
        "id": "gZk7eY3ovWWv",
        "outputId": "a45a95b3-6530-4df6-8303-134c5311c125",
        "colab": {
          "base_uri": "https://localhost:8080/",
          "height": 447
        }
      },
      "outputs": [
        {
          "output_type": "execute_result",
          "data": {
            "text/plain": [
              "<matplotlib.collections.PathCollection at 0x789f05b5b500>"
            ]
          },
          "metadata": {},
          "execution_count": 47
        },
        {
          "output_type": "display_data",
          "data": {
            "text/plain": [
              "<Figure size 640x480 with 1 Axes>"
            ],
            "image/png": "[encoded data removed]"
          },
          "metadata": {}
        }
      ],
      "source": [
        "x = np.linspace(-1, 4, 100)\n",
        "y = -W[0] / W[1] * x + (0.5 - b) / W[1]\n",
        "plt.plot(x, y, \"-r\")\n",
        "plt.scatter(inputs[:, 0], inputs[:, 1], c=predictions[:, 0] > 0.5)"
      ]
    },
    {
      "cell_type": "markdown",
      "metadata": {
        "id": "NwHJUV8KvWWv"
      },
      "source": [
        "#### What makes the TensorFlow approach unique"
      ]
    },
    {
      "cell_type": "markdown",
      "metadata": {
        "id": "CnPM7tp6vWWv"
      },
      "source": [
        "### Introduction to PyTorch"
      ]
    },
    {
      "cell_type": "markdown",
      "metadata": {
        "id": "u1VU79dcvWWv"
      },
      "source": [
        "#### First steps with PyTorch"
      ]
    },
    {
      "cell_type": "markdown",
      "metadata": {
        "id": "vWQ8PXb4vWWv"
      },
      "source": [
        "##### Tensors and parameters in PyTorch"
      ]
    },
    {
      "cell_type": "markdown",
      "metadata": {
        "id": "JYvAKgvrvWWv"
      },
      "source": [
        "###### Constant tensors"
      ]
    },
    {
      "cell_type": "code",
      "execution_count": 48,
      "metadata": {
        "id": "q8OvMz4YvWWv",
        "outputId": "d4c7ed92-d630-4696-a970-aa91082113f7",
        "colab": {
          "base_uri": "https://localhost:8080/"
        }
      },
      "outputs": [
        {
          "output_type": "execute_result",
          "data": {
            "text/plain": [
              "tensor([[1.],\n",
              "        [1.]])"
            ]
          },
          "metadata": {},
          "execution_count": 48
        }
      ],
      "source": [
        "import torch\n",
        "torch.ones(size=(2, 1))"
      ]
    },
    {
      "cell_type": "code",
      "execution_count": 49,
      "metadata": {
        "id": "PqNkV76PvWWv",
        "outputId": "d8ebd440-b33f-47fd-d875-66a67dbdcad5",
        "colab": {
          "base_uri": "https://localhost:8080/"
        }
      },
      "outputs": [
        {
          "output_type": "execute_result",
          "data": {
            "text/plain": [
              "tensor([[0.],\n",
              "        [0.]])"
            ]
          },
          "metadata": {},
          "execution_count": 49
        }
      ],
      "source": [
        "torch.zeros(size=(2, 1))"
      ]
    },
    {
      "cell_type": "code",
      "execution_count": 50,
      "metadata": {
        "id": "W-VTTPbUvWWv",
        "outputId": "3927485c-1731-46fc-ec0b-10618468d765",
        "colab": {
          "base_uri": "https://localhost:8080/"
        }
      },
      "outputs": [
        {
          "output_type": "execute_result",
          "data": {
            "text/plain": [
              "tensor([1., 2., 3.])"
            ]
          },
          "metadata": {},
          "execution_count": 50
        }
      ],
      "source": [
        "torch.tensor([1, 2, 3], dtype=torch.float32)"
      ]
    },
    {
      "cell_type": "markdown",
      "metadata": {
        "id": "_t7EpzUavWWv"
      },
      "source": [
        "###### Random tensors"
      ]
    },
    {
      "cell_type": "code",
      "execution_count": 51,
      "metadata": {
        "id": "8xeBWvajvWWv",
        "outputId": "47ba09a7-c57a-496f-f114-3f3c02460d84",
        "colab": {
          "base_uri": "https://localhost:8080/"
        }
      },
      "outputs": [
        {
          "output_type": "execute_result",
          "data": {
            "text/plain": [
              "tensor([[0.2832],\n",
              "        [1.4924],\n",
              "        [0.1361]])"
            ]
          },
          "metadata": {},
          "execution_count": 51
        }
      ],
      "source": [
        "torch.normal(\n",
        "mean=torch.zeros(size=(3, 1)),\n",
        "std=torch.ones(size=(3, 1)))"
      ]
    },
    {
      "cell_type": "code",
      "execution_count": 52,
      "metadata": {
        "id": "2p0PiGfhvWWv",
        "outputId": "46535f20-533c-4fac-b0a9-81a9e7195c7f",
        "colab": {
          "base_uri": "https://localhost:8080/"
        }
      },
      "outputs": [
        {
          "output_type": "execute_result",
          "data": {
            "text/plain": [
              "tensor([[0.0137],\n",
              "        [0.9339],\n",
              "        [0.5726]])"
            ]
          },
          "metadata": {},
          "execution_count": 52
        }
      ],
      "source": [
        "torch.rand(3, 1)"
      ]
    },
    {
      "cell_type": "markdown",
      "metadata": {
        "id": "diLl2djgvWWv"
      },
      "source": [
        "###### Tensor assignment and the Parameter class"
      ]
    },
    {
      "cell_type": "code",
      "execution_count": 53,
      "metadata": {
        "id": "lc0APCA0vWWw",
        "outputId": "aa245aa5-1f60-4d4f-850d-7826d5595b6d",
        "colab": {
          "base_uri": "https://localhost:8080/"
        }
      },
      "outputs": [
        {
          "output_type": "execute_result",
          "data": {
            "text/plain": [
              "tensor([[1.],\n",
              "        [0.]])"
            ]
          },
          "metadata": {},
          "execution_count": 53
        }
      ],
      "source": [
        "x = torch.zeros(size=(2, 1))\n",
        "x[0, 0] = 1.\n",
        "x"
      ]
    },
    {
      "cell_type": "code",
      "source": [
        "x.shape"
      ],
      "metadata": {
        "id": "z7HGY14jseM5",
        "outputId": "5a84ca22-12fc-4475-846b-9f67edfe7946",
        "colab": {
          "base_uri": "https://localhost:8080/"
        }
      },
      "execution_count": 54,
      "outputs": [
        {
          "output_type": "execute_result",
          "data": {
            "text/plain": [
              "torch.Size([2, 1])"
            ]
          },
          "metadata": {},
          "execution_count": 54
        }
      ]
    },
    {
      "cell_type": "code",
      "execution_count": 55,
      "metadata": {
        "id": "Asj8UzaVvWWw"
      },
      "outputs": [],
      "source": [
        "x = torch.zeros(size=(2, 1))\n",
        "p = torch.nn.parameter.Parameter(data=x)"
      ]
    },
    {
      "cell_type": "markdown",
      "metadata": {
        "id": "kYetrgchvWWw"
      },
      "source": [
        "##### Tensor operations: Doing math in PyTorch"
      ]
    },
    {
      "cell_type": "code",
      "execution_count": 56,
      "metadata": {
        "id": "bIlr05FbvWWw"
      },
      "outputs": [],
      "source": [
        "a = torch.ones((2, 2))\n",
        "b = torch.square(a)\n",
        "c = torch.sqrt(a)\n",
        "d = b + c\n",
        "e = torch.matmul(a, b)\n",
        "f = torch.cat((a, b), dim=0)"
      ]
    },
    {
      "cell_type": "code",
      "execution_count": 57,
      "metadata": {
        "id": "OWRI75ahvWWw"
      },
      "outputs": [],
      "source": [
        "def dense(inputs, W, b):\n",
        "    return torch.nn.relu(torch.matmul(inputs, W) + b)"
      ]
    },
    {
      "cell_type": "markdown",
      "metadata": {
        "id": "Vg2bs_ASvWWw"
      },
      "source": [
        "##### Computing gradients with PyTorch"
      ]
    },
    {
      "cell_type": "code",
      "execution_count": 58,
      "metadata": {
        "id": "F9sG2YDYvWWw",
        "outputId": "a2d7d3b5-da43-4bdd-face-5b57699b17b8",
        "colab": {
          "base_uri": "https://localhost:8080/"
        }
      },
      "outputs": [
        {
          "output_type": "execute_result",
          "data": {
            "text/plain": [
              "tensor(6.)"
            ]
          },
          "metadata": {},
          "execution_count": 58
        }
      ],
      "source": [
        "input_var = torch.tensor(3.0, requires_grad=True)\n",
        "result = torch.square(input_var)\n",
        "result.backward()\n",
        "gradient = input_var.grad\n",
        "gradient"
      ]
    },
    {
      "cell_type": "code",
      "execution_count": 59,
      "metadata": {
        "id": "e4-szMW7vWWw",
        "outputId": "8c9c1866-ab61-4706-f52e-c4554b9b54e7",
        "colab": {
          "base_uri": "https://localhost:8080/"
        }
      },
      "outputs": [
        {
          "output_type": "execute_result",
          "data": {
            "text/plain": [
              "tensor(12.)"
            ]
          },
          "metadata": {},
          "execution_count": 59
        }
      ],
      "source": [
        "result = torch.square(input_var)\n",
        "result.backward()\n",
        "input_var.grad"
      ]
    },
    {
      "cell_type": "code",
      "execution_count": 62,
      "metadata": {
        "id": "-L5FMkBEvWWw"
      },
      "outputs": [],
      "source": [
        "input_var.grad = None"
      ]
    },
    {
      "cell_type": "markdown",
      "metadata": {
        "id": "4ZX3C4U2vWWw"
      },
      "source": [
        "#### An end-to-end example: A linear classifier in pure PyTorch"
      ]
    },
    {
      "cell_type": "code",
      "execution_count": 63,
      "metadata": {
        "id": "8bFEANBSvWWw"
      },
      "outputs": [],
      "source": [
        "input_dim = 2\n",
        "output_dim = 1\n",
        "\n",
        "W = torch.rand(input_dim, output_dim, requires_grad=True)\n",
        "b = torch.zeros(output_dim, requires_grad=True)"
      ]
    },
    {
      "cell_type": "code",
      "execution_count": 64,
      "metadata": {
        "id": "GXz-AkRlvWWw"
      },
      "outputs": [],
      "source": [
        "def model(inputs, W, b):\n",
        "    return torch.matmul(inputs, W) + b"
      ]
    },
    {
      "cell_type": "code",
      "execution_count": 65,
      "metadata": {
        "id": "-w2NJKQLvWWw"
      },
      "outputs": [],
      "source": [
        "def mean_squared_error(targets, predictions):\n",
        "    per_sample_losses = torch.square(targets - predictions)\n",
        "    return torch.mean(per_sample_losses)"
      ]
    },
    {
      "cell_type": "code",
      "execution_count": 66,
      "metadata": {
        "id": "5nGRtpfNvWWw"
      },
      "outputs": [],
      "source": [
        "learning_rate = 0.1\n",
        "\n",
        "def training_step(inputs, targets, W, b):\n",
        "    predictions = model(inputs)\n",
        "    loss = mean_squared_error(targets, predictions)\n",
        "    loss.backward()\n",
        "    grad_loss_wrt_W, grad_loss_wrt_b = W.grad, b.grad\n",
        "    with torch.no_grad():\n",
        "        W -= grad_loss_wrt_W * learning_rate\n",
        "        b -= grad_loss_wrt_b * learning_rate\n",
        "    W.grad = None\n",
        "    b.grad = None\n",
        "    return loss"
      ]
    },
    {
      "cell_type": "markdown",
      "metadata": {
        "id": "GW-GrzQRvWWw"
      },
      "source": [
        "##### Packaging state and computation with the Module class"
      ]
    },
    {
      "cell_type": "code",
      "execution_count": 67,
      "metadata": {
        "id": "yTywGZW_vWWw"
      },
      "outputs": [],
      "source": [
        "class LinearModel(torch.nn.Module):\n",
        "    def __init__(self):\n",
        "        super().__init__()\n",
        "        self.W = torch.nn.Parameter(torch.rand(input_dim, output_dim))\n",
        "        self.b = torch.nn.Parameter(torch.zeros(output_dim))\n",
        "\n",
        "    def forward(self, inputs):\n",
        "        return torch.matmul(inputs, self.W) + self.b"
      ]
    },
    {
      "cell_type": "code",
      "execution_count": 68,
      "metadata": {
        "id": "JTxH9JEwvWWw"
      },
      "outputs": [],
      "source": [
        "model = LinearModel()"
      ]
    },
    {
      "cell_type": "code",
      "execution_count": 69,
      "metadata": {
        "id": "rDT7t9_uvWWw"
      },
      "outputs": [],
      "source": [
        "torch_inputs = torch.tensor(inputs)\n",
        "output = model(torch_inputs)"
      ]
    },
    {
      "cell_type": "code",
      "execution_count": 70,
      "metadata": {
        "id": "D_v1lwg2vWWw"
      },
      "outputs": [],
      "source": [
        "optimizer = torch.optim.SGD(model.parameters(), lr=learning_rate)"
      ]
    },
    {
      "cell_type": "code",
      "execution_count": 71,
      "metadata": {
        "id": "naBmwe2FvWWw"
      },
      "outputs": [],
      "source": [
        "def training_step(inputs, targets):\n",
        "    predictions = model(inputs)\n",
        "    loss = mean_squared_error(targets, predictions)\n",
        "    loss.backward()\n",
        "    optimizer.step()\n",
        "    model.zero_grad()\n",
        "    return loss"
      ]
    },
    {
      "cell_type": "markdown",
      "metadata": {
        "id": "_KX40xQfvWWw"
      },
      "source": [
        "##### Making PyTorch modules fast using compilation"
      ]
    },
    {
      "cell_type": "code",
      "execution_count": 72,
      "metadata": {
        "id": "qbFLSl5uvWWw"
      },
      "outputs": [],
      "source": [
        "compiled_model = torch.compile(model)"
      ]
    },
    {
      "cell_type": "code",
      "execution_count": 73,
      "metadata": {
        "id": "pUfFt5MHvWWw"
      },
      "outputs": [],
      "source": [
        "@torch.compile\n",
        "def dense(inputs, W, b):\n",
        "    return torch.nn.relu(torch.matmul(inputs, W) + b)"
      ]
    },
    {
      "cell_type": "markdown",
      "metadata": {
        "id": "0Z1HbvOkvWWw"
      },
      "source": [
        "#### What makes the PyTorch approach unique"
      ]
    },
    {
      "cell_type": "markdown",
      "metadata": {
        "id": "3eYp8qrUvWWw"
      },
      "source": [
        "### Introduction to JAX"
      ]
    },
    {
      "cell_type": "markdown",
      "metadata": {
        "id": "sJLBdLp-vWWw"
      },
      "source": [
        "#### First steps with JAX"
      ]
    },
    {
      "cell_type": "markdown",
      "metadata": {
        "id": "Sms0HY9dvWWw"
      },
      "source": [
        "#### Tensors in JAX"
      ]
    },
    {
      "cell_type": "code",
      "execution_count": 74,
      "metadata": {
        "id": "F1aqIAWjvWWx",
        "outputId": "e2010fe4-ea99-44a5-9415-8ec2482415bd",
        "colab": {
          "base_uri": "https://localhost:8080/"
        }
      },
      "outputs": [
        {
          "output_type": "execute_result",
          "data": {
            "text/plain": [
              "Array([[1.],\n",
              "       [1.]], dtype=float32)"
            ]
          },
          "metadata": {},
          "execution_count": 74
        }
      ],
      "source": [
        "from jax import numpy as jnp\n",
        "jnp.ones(shape=(2, 1))"
      ]
    },
    {
      "cell_type": "code",
      "execution_count": 75,
      "metadata": {
        "id": "BhnXMB_AvWWx",
        "outputId": "72646707-7897-47f4-8eee-b9155a184b92",
        "colab": {
          "base_uri": "https://localhost:8080/"
        }
      },
      "outputs": [
        {
          "output_type": "execute_result",
          "data": {
            "text/plain": [
              "Array([[0.],\n",
              "       [0.]], dtype=float32)"
            ]
          },
          "metadata": {},
          "execution_count": 75
        }
      ],
      "source": [
        "jnp.zeros(shape=(2, 1))"
      ]
    },
    {
      "cell_type": "code",
      "execution_count": 76,
      "metadata": {
        "id": "D9IVKmnvvWWx",
        "outputId": "75189964-af41-44fc-c4bb-a3a3317694f4",
        "colab": {
          "base_uri": "https://localhost:8080/"
        }
      },
      "outputs": [
        {
          "output_type": "execute_result",
          "data": {
            "text/plain": [
              "Array([1., 2., 3.], dtype=float32)"
            ]
          },
          "metadata": {},
          "execution_count": 76
        }
      ],
      "source": [
        "jnp.array([1, 2, 3], dtype=\"float32\")"
      ]
    },
    {
      "cell_type": "markdown",
      "metadata": {
        "id": "KXQEjvs3vWWx"
      },
      "source": [
        "#### Random number generation in JAX"
      ]
    },
    {
      "cell_type": "code",
      "execution_count": 77,
      "metadata": {
        "id": "w_G077X_vWWx",
        "outputId": "6e8a4836-22b2-4217-f021-b621666a3932",
        "colab": {
          "base_uri": "https://localhost:8080/"
        }
      },
      "outputs": [
        {
          "output_type": "execute_result",
          "data": {
            "text/plain": [
              "array([ 0.74558238, -1.28851294, -0.35183636])"
            ]
          },
          "metadata": {},
          "execution_count": 77
        }
      ],
      "source": [
        "np.random.normal(size=(3,))"
      ]
    },
    {
      "cell_type": "code",
      "execution_count": 78,
      "metadata": {
        "id": "FQaisxfyvWWx",
        "outputId": "f30ad350-948d-43ff-9310-f304e6aa18f1",
        "colab": {
          "base_uri": "https://localhost:8080/"
        }
      },
      "outputs": [
        {
          "output_type": "execute_result",
          "data": {
            "text/plain": [
              "array([ 0.0210731 , -1.28739068, -0.25358932])"
            ]
          },
          "metadata": {},
          "execution_count": 78
        }
      ],
      "source": [
        "np.random.normal(size=(3,))"
      ]
    },
    {
      "cell_type": "code",
      "execution_count": 79,
      "metadata": {
        "id": "KWKhXXwpvWWx",
        "outputId": "0f50a9ea-8843-47cb-a4f0-f2789731225f",
        "colab": {
          "base_uri": "https://localhost:8080/"
        }
      },
      "outputs": [
        {
          "output_type": "stream",
          "name": "stderr",
          "text": [
            "/tmp/ipython-input-2654806653.py:3: DeprecationWarning: __array_wrap__ must accept context and return_scalar arguments (positionally) in the future. (Deprecated NumPy 2.0)\n",
            "  x = x * np.random.normal((3,))\n"
          ]
        }
      ],
      "source": [
        "def apply_noise(x, seed):\n",
        "    np.random.seed(seed)\n",
        "    x = x * np.random.normal((3,))\n",
        "    return x\n",
        "\n",
        "seed = 1337\n",
        "y = apply_noise(x, seed)\n",
        "seed += 1\n",
        "z = apply_noise(x, seed)"
      ]
    },
    {
      "cell_type": "code",
      "execution_count": 80,
      "metadata": {
        "id": "duFc0YiPvWWx"
      },
      "outputs": [],
      "source": [
        "import jax\n",
        "\n",
        "seed_key = jax.random.key(1337)"
      ]
    },
    {
      "cell_type": "code",
      "execution_count": 81,
      "metadata": {
        "id": "cHUVJhAevWWx",
        "outputId": "10bdfa2c-6568-48c8-ad43-547ff1e091c1",
        "colab": {
          "base_uri": "https://localhost:8080/"
        }
      },
      "outputs": [
        {
          "output_type": "execute_result",
          "data": {
            "text/plain": [
              "Array([ 1.6226422 ,  2.0252647 , -0.43359444], dtype=float32)"
            ]
          },
          "metadata": {},
          "execution_count": 81
        }
      ],
      "source": [
        "seed_key = jax.random.key(0)\n",
        "jax.random.normal(seed_key, shape=(3,))"
      ]
    },
    {
      "cell_type": "code",
      "execution_count": 82,
      "metadata": {
        "id": "PaNQxufVvWWx",
        "outputId": "f65a1216-4707-41a4-88ac-54e283b221cf",
        "colab": {
          "base_uri": "https://localhost:8080/"
        }
      },
      "outputs": [
        {
          "output_type": "execute_result",
          "data": {
            "text/plain": [
              "Array([1.6359469 , 0.8408094 , 0.02212393], dtype=float32)"
            ]
          },
          "metadata": {},
          "execution_count": 82
        }
      ],
      "source": [
        "seed_key = jax.random.key(123)\n",
        "jax.random.normal(seed_key, shape=(3,))"
      ]
    },
    {
      "cell_type": "code",
      "execution_count": 83,
      "metadata": {
        "id": "B4Nsg8JUvWWx",
        "outputId": "e6b750e4-bde2-4865-b24d-fc7b61eb2d86",
        "colab": {
          "base_uri": "https://localhost:8080/"
        }
      },
      "outputs": [
        {
          "output_type": "execute_result",
          "data": {
            "text/plain": [
              "Array([1.6359469 , 0.8408094 , 0.02212393], dtype=float32)"
            ]
          },
          "metadata": {},
          "execution_count": 83
        }
      ],
      "source": [
        "jax.random.normal(seed_key, shape=(3,))"
      ]
    },
    {
      "cell_type": "code",
      "execution_count": 84,
      "metadata": {
        "id": "XJ3TYjcCvWWx",
        "outputId": "faade4bd-ab3f-438f-e32b-0fd92258052c",
        "colab": {
          "base_uri": "https://localhost:8080/"
        }
      },
      "outputs": [
        {
          "output_type": "execute_result",
          "data": {
            "text/plain": [
              "Array([1.6359469 , 0.8408094 , 0.02212393], dtype=float32)"
            ]
          },
          "metadata": {},
          "execution_count": 84
        }
      ],
      "source": [
        "seed_key = jax.random.key(123)\n",
        "jax.random.normal(seed_key, shape=(3,))"
      ]
    },
    {
      "cell_type": "code",
      "execution_count": 85,
      "metadata": {
        "id": "sErtOddnvWWx",
        "outputId": "c01a3f1f-64e7-4774-f191-dee595ed9a5a",
        "colab": {
          "base_uri": "https://localhost:8080/"
        }
      },
      "outputs": [
        {
          "output_type": "execute_result",
          "data": {
            "text/plain": [
              "Array([-0.49093357, -0.9478693 , -1.775197  ], dtype=float32)"
            ]
          },
          "metadata": {},
          "execution_count": 85
        }
      ],
      "source": [
        "new_seed_key = jax.random.split(seed_key, num=1)[0]\n",
        "jax.random.normal(new_seed_key, shape=(3,))"
      ]
    },
    {
      "cell_type": "markdown",
      "metadata": {
        "id": "SqSpV2sMvWWx"
      },
      "source": [
        "##### Tensor assignment"
      ]
    },
    {
      "cell_type": "code",
      "execution_count": 86,
      "metadata": {
        "id": "X7o2RcAuvWWx"
      },
      "outputs": [],
      "source": [
        "x = jnp.array([1, 2, 3], dtype=\"float32\")\n",
        "new_x = x.at[0].set(10)"
      ]
    },
    {
      "cell_type": "markdown",
      "metadata": {
        "id": "C-eZIe4yvWWx"
      },
      "source": [
        "##### Tensor operations: Doing math in JAX"
      ]
    },
    {
      "cell_type": "code",
      "execution_count": 87,
      "metadata": {
        "id": "pyRsVzNUvWWx"
      },
      "outputs": [],
      "source": [
        "a = jnp.ones((2, 2))\n",
        "b = jnp.square(a)\n",
        "c = jnp.sqrt(a)\n",
        "d = b + c\n",
        "e = jnp.matmul(a, b)\n",
        "e *= d"
      ]
    },
    {
      "cell_type": "code",
      "execution_count": 88,
      "metadata": {
        "id": "sHdCdhTEvWWx"
      },
      "outputs": [],
      "source": [
        "def dense(inputs, W, b):\n",
        "    return jax.nn.relu(jnp.matmul(inputs, W) + b)"
      ]
    },
    {
      "cell_type": "markdown",
      "metadata": {
        "id": "g-1TzjhnvWWx"
      },
      "source": [
        "##### Computing gradients with JAX"
      ]
    },
    {
      "cell_type": "code",
      "execution_count": 89,
      "metadata": {
        "id": "uXccdEw8vWWx"
      },
      "outputs": [],
      "source": [
        "def compute_loss(input_var):\n",
        "    return jnp.square(input_var)"
      ]
    },
    {
      "cell_type": "code",
      "execution_count": 90,
      "metadata": {
        "id": "78WNzsEtvWWx"
      },
      "outputs": [],
      "source": [
        "grad_fn = jax.grad(compute_loss)"
      ]
    },
    {
      "cell_type": "code",
      "execution_count": 91,
      "metadata": {
        "id": "Eel42ZxlvWWx"
      },
      "outputs": [],
      "source": [
        "input_var = jnp.array(3.0)\n",
        "grad_of_loss_wrt_input_var = grad_fn(input_var)"
      ]
    },
    {
      "cell_type": "markdown",
      "metadata": {
        "id": "H2j4C1GpvWWx"
      },
      "source": [
        "##### JAX gradient-computation best practices"
      ]
    },
    {
      "cell_type": "markdown",
      "metadata": {
        "id": "SZS85t7MvWWx"
      },
      "source": [
        "###### Returning the loss value"
      ]
    },
    {
      "cell_type": "code",
      "execution_count": 92,
      "metadata": {
        "id": "g_jAgvFGvWWx"
      },
      "outputs": [],
      "source": [
        "grad_fn = jax.value_and_grad(compute_loss)\n",
        "output, grad_of_loss_wrt_input_var = grad_fn(input_var)"
      ]
    },
    {
      "cell_type": "markdown",
      "metadata": {
        "id": "2Bifow7dvWWx"
      },
      "source": [
        "###### Getting gradients for a complex function"
      ]
    },
    {
      "cell_type": "markdown",
      "metadata": {
        "id": "ACA6p35jvWWx"
      },
      "source": [
        "###### Returning auxiliary outputs"
      ]
    },
    {
      "cell_type": "markdown",
      "metadata": {
        "id": "vPtBRyYGvWWx"
      },
      "source": [
        "##### Making JAX functions fast with @jax.jit"
      ]
    },
    {
      "cell_type": "code",
      "execution_count": 93,
      "metadata": {
        "id": "qDkhrz8svWWx"
      },
      "outputs": [],
      "source": [
        "@jax.jit\n",
        "def dense(inputs, W, b):\n",
        "    return jax.nn.relu(jnp.matmul(inputs, W) + b)"
      ]
    },
    {
      "cell_type": "markdown",
      "metadata": {
        "id": "175HUwHevWWx"
      },
      "source": [
        "#### An end-to-end example: A linear classifier in pure JAX"
      ]
    },
    {
      "cell_type": "code",
      "execution_count": 94,
      "metadata": {
        "id": "rBAMlfnMvWWx"
      },
      "outputs": [],
      "source": [
        "def model(inputs, W, b):\n",
        "    return jnp.matmul(inputs, W) + b\n",
        "\n",
        "def mean_squared_error(targets, predictions):\n",
        "    per_sample_losses = jnp.square(targets - predictions)\n",
        "    return jnp.mean(per_sample_losses)"
      ]
    },
    {
      "cell_type": "code",
      "execution_count": 95,
      "metadata": {
        "id": "nRUb6uQYvWWy"
      },
      "outputs": [],
      "source": [
        "def compute_loss(state, inputs, targets):\n",
        "    W, b = state\n",
        "    predictions = model(inputs, W, b)\n",
        "    loss = mean_squared_error(targets, predictions)\n",
        "    return loss"
      ]
    },
    {
      "cell_type": "code",
      "execution_count": 96,
      "metadata": {
        "id": "sNi9FYMUvWWy"
      },
      "outputs": [],
      "source": [
        "grad_fn = jax.value_and_grad(compute_loss)"
      ]
    },
    {
      "cell_type": "code",
      "execution_count": 97,
      "metadata": {
        "id": "iVavr5sJvWWy"
      },
      "outputs": [],
      "source": [
        "learning_rate = 0.1\n",
        "\n",
        "@jax.jit\n",
        "def training_step(inputs, targets, W, b):\n",
        "    loss, grads = grad_fn((W, b), inputs, targets)\n",
        "    grad_wrt_W, grad_wrt_b = grads\n",
        "    W = W - grad_wrt_W * learning_rate\n",
        "    b = b - grad_wrt_b * learning_rate\n",
        "    return loss, W, b"
      ]
    },
    {
      "cell_type": "code",
      "execution_count": 98,
      "metadata": {
        "id": "g2IACTxtvWWy",
        "outputId": "dbc7ea6c-e840-4e80-eb67-ab37ac675e67",
        "colab": {
          "base_uri": "https://localhost:8080/"
        }
      },
      "outputs": [
        {
          "output_type": "stream",
          "name": "stdout",
          "text": [
            "Loss at step 0: 3.5081\n",
            "Loss at step 1: 0.2092\n",
            "Loss at step 2: 0.1163\n",
            "Loss at step 3: 0.0992\n",
            "Loss at step 4: 0.0917\n",
            "Loss at step 5: 0.0858\n",
            "Loss at step 6: 0.0806\n",
            "Loss at step 7: 0.0758\n",
            "Loss at step 8: 0.0714\n",
            "Loss at step 9: 0.0674\n",
            "Loss at step 10: 0.0637\n",
            "Loss at step 11: 0.0604\n",
            "Loss at step 12: 0.0573\n",
            "Loss at step 13: 0.0545\n",
            "Loss at step 14: 0.0520\n",
            "Loss at step 15: 0.0496\n",
            "Loss at step 16: 0.0475\n",
            "Loss at step 17: 0.0456\n",
            "Loss at step 18: 0.0438\n",
            "Loss at step 19: 0.0421\n",
            "Loss at step 20: 0.0407\n",
            "Loss at step 21: 0.0393\n",
            "Loss at step 22: 0.0381\n",
            "Loss at step 23: 0.0369\n",
            "Loss at step 24: 0.0359\n",
            "Loss at step 25: 0.0349\n",
            "Loss at step 26: 0.0341\n",
            "Loss at step 27: 0.0333\n",
            "Loss at step 28: 0.0325\n",
            "Loss at step 29: 0.0319\n",
            "Loss at step 30: 0.0313\n",
            "Loss at step 31: 0.0307\n",
            "Loss at step 32: 0.0302\n",
            "Loss at step 33: 0.0298\n",
            "Loss at step 34: 0.0293\n",
            "Loss at step 35: 0.0289\n",
            "Loss at step 36: 0.0286\n",
            "Loss at step 37: 0.0283\n",
            "Loss at step 38: 0.0280\n",
            "Loss at step 39: 0.0277\n"
          ]
        }
      ],
      "source": [
        "input_dim = 2\n",
        "output_dim = 1\n",
        "\n",
        "W = jax.numpy.array(np.random.uniform(size=(input_dim, output_dim)))\n",
        "b = jax.numpy.array(np.zeros(shape=(output_dim,)))\n",
        "state = (W, b)\n",
        "for step in range(40):\n",
        "    loss, W, b = training_step(inputs, targets, W, b)\n",
        "    print(f\"Loss at step {step}: {loss:.4f}\")"
      ]
    },
    {
      "cell_type": "markdown",
      "metadata": {
        "id": "PbOEGI3evWWy"
      },
      "source": [
        "#### What makes the JAX approach unique"
      ]
    },
    {
      "cell_type": "markdown",
      "metadata": {
        "id": "k-BHFIEtvWWy"
      },
      "source": [
        "### Introduction to Keras"
      ]
    },
    {
      "cell_type": "markdown",
      "metadata": {
        "id": "_2ucw1J4vWWy"
      },
      "source": [
        "#### First steps with Keras"
      ]
    },
    {
      "cell_type": "markdown",
      "metadata": {
        "id": "sPZ75L9PvWWy"
      },
      "source": [
        "##### Picking a backend framework"
      ]
    },
    {
      "cell_type": "code",
      "execution_count": 99,
      "metadata": {
        "id": "7kuTl3FzvWWy"
      },
      "outputs": [],
      "source": [
        "import os\n",
        "\n",
        "os.environ[\"KERAS_BACKEND\"] = \"jax\"\n",
        "\n",
        "import keras"
      ]
    },
    {
      "cell_type": "markdown",
      "metadata": {
        "id": "Ek1bPRSGvWWy"
      },
      "source": [
        "#### Layers: The building blocks of deep learning"
      ]
    },
    {
      "cell_type": "markdown",
      "metadata": {
        "id": "xKzMgWyQvWWy"
      },
      "source": [
        "##### The base `Layer` class in Keras"
      ]
    },
    {
      "cell_type": "code",
      "execution_count": 100,
      "metadata": {
        "id": "RTSXG91AvWWy"
      },
      "outputs": [],
      "source": [
        "import keras\n",
        "\n",
        "class SimpleDense(keras.Layer):\n",
        "    def __init__(self, units, activation=None):\n",
        "        super().__init__()\n",
        "        self.units = units\n",
        "        self.activation = activation\n",
        "\n",
        "    def build(self, input_shape):\n",
        "        batch_dim, input_dim = input_shape\n",
        "        self.W = self.add_weight(\n",
        "            shape=(input_dim, self.units), initializer=\"random_normal\"\n",
        "        )\n",
        "        self.b = self.add_weight(shape=(self.units,), initializer=\"zeros\")\n",
        "\n",
        "    def call(self, inputs):\n",
        "        y = keras.ops.matmul(inputs, self.W) + self.b\n",
        "        if self.activation is not None:\n",
        "            y = self.activation(y)\n",
        "        return y"
      ]
    },
    {
      "cell_type": "code",
      "execution_count": 101,
      "metadata": {
        "id": "_SGb-PkzvWWy",
        "outputId": "053be488-8549-4d91-8a78-ba4d007f3226",
        "colab": {
          "base_uri": "https://localhost:8080/"
        }
      },
      "outputs": [
        {
          "output_type": "stream",
          "name": "stdout",
          "text": [
            "(2, 32)\n"
          ]
        }
      ],
      "source": [
        "my_dense = SimpleDense(units=32, activation=keras.ops.relu)\n",
        "input_tensor = keras.ops.ones(shape=(2, 784))\n",
        "output_tensor = my_dense(input_tensor)\n",
        "print(output_tensor.shape)"
      ]
    },
    {
      "cell_type": "markdown",
      "metadata": {
        "id": "H3Xt7HfhvWWy"
      },
      "source": [
        "##### Automatic shape inference: Building layers on the fly"
      ]
    },
    {
      "cell_type": "code",
      "execution_count": 102,
      "metadata": {
        "id": "sIIk2vtmvWWy"
      },
      "outputs": [],
      "source": [
        "from keras import layers\n",
        "\n",
        "layer = layers.Dense(32, activation=\"relu\")"
      ]
    },
    {
      "cell_type": "code",
      "execution_count": 103,
      "metadata": {
        "id": "2teSKFJsvWWy"
      },
      "outputs": [],
      "source": [
        "from keras import models\n",
        "from keras import layers\n",
        "\n",
        "model = models.Sequential(\n",
        "    [\n",
        "        layers.Dense(32, activation=\"relu\"),\n",
        "        layers.Dense(32),\n",
        "    ]\n",
        ")"
      ]
    },
    {
      "cell_type": "code",
      "execution_count": 104,
      "metadata": {
        "id": "XhCBHGNsvWWy"
      },
      "outputs": [],
      "source": [
        "model = keras.Sequential(\n",
        "    [\n",
        "        SimpleDense(32, activation=\"relu\"),\n",
        "        SimpleDense(64, activation=\"relu\"),\n",
        "        SimpleDense(32, activation=\"relu\"),\n",
        "        SimpleDense(10, activation=\"softmax\"),\n",
        "    ]\n",
        ")"
      ]
    },
    {
      "cell_type": "markdown",
      "metadata": {
        "id": "Bfd1AE1EvWWy"
      },
      "source": [
        "#### From layers to models"
      ]
    },
    {
      "cell_type": "markdown",
      "metadata": {
        "id": "XJl_Q4skvWWy"
      },
      "source": [
        "#### The \"compile\" step: Configuring the learning process"
      ]
    },
    {
      "cell_type": "code",
      "execution_count": 105,
      "metadata": {
        "id": "oaM571XovWWy"
      },
      "outputs": [],
      "source": [
        "model = keras.Sequential([keras.layers.Dense(1)])\n",
        "model.compile(\n",
        "    optimizer=\"rmsprop\",\n",
        "    loss=\"mean_squared_error\",\n",
        "    metrics=[\"accuracy\"],\n",
        ")"
      ]
    },
    {
      "cell_type": "code",
      "execution_count": 106,
      "metadata": {
        "id": "sTVEzgivvWWy"
      },
      "outputs": [],
      "source": [
        "model.compile(\n",
        "    optimizer=keras.optimizers.RMSprop(),\n",
        "    loss=keras.losses.MeanSquaredError(),\n",
        "    metrics=[keras.metrics.BinaryAccuracy()],\n",
        ")"
      ]
    },
    {
      "cell_type": "code",
      "source": [
        "model.build()\n",
        "model.summary()"
      ],
      "metadata": {
        "id": "uIYvtz4hLxQu",
        "outputId": "59a919c8-1fcf-4d0c-a4d9-000d29fa2ba7",
        "colab": {
          "base_uri": "https://localhost:8080/",
          "height": 177
        }
      },
      "execution_count": 110,
      "outputs": [
        {
          "output_type": "display_data",
          "data": {
            "text/plain": [
              "\u001b[1mModel: \"sequential_2\"\u001b[0m\n"
            ],
            "text/html": [
              "<pre style=\"white-space:pre;overflow-x:auto;line-height:normal;font-family:Menlo,'DejaVu Sans Mono',consolas,'Courier New',monospace\"><span style=\"font-weight: bold\">Model: \"sequential_2\"</span>\n",
              "</pre>\n"
            ]
          },
          "metadata": {}
        },
        {
          "output_type": "display_data",
          "data": {
            "text/plain": [
              "┏━━━━━━━━━━━━━━━━━━━━━━━━━━━━━━━━━┳━━━━━━━━━━━━━━━━━━━━━━━━┳━━━━━━━━━━━━━━━┓\n",
              "┃\u001b[1m \u001b[0m\u001b[1mLayer (type)                   \u001b[0m\u001b[1m \u001b[0m┃\u001b[1m \u001b[0m\u001b[1mOutput Shape          \u001b[0m\u001b[1m \u001b[0m┃\u001b[1m \u001b[0m\u001b[1m      Param #\u001b[0m\u001b[1m \u001b[0m┃\n",
              "┡━━━━━━━━━━━━━━━━━━━━━━━━━━━━━━━━━╇━━━━━━━━━━━━━━━━━━━━━━━━╇━━━━━━━━━━━━━━━┩\n",
              "│ dense_3 (\u001b[38;5;33mDense\u001b[0m)                 │ (\u001b[38;5;34m128\u001b[0m, \u001b[38;5;34m1\u001b[0m)               │             \u001b[38;5;34m3\u001b[0m │\n",
              "└─────────────────────────────────┴────────────────────────┴───────────────┘\n"
            ],
            "text/html": [
              "<pre style=\"white-space:pre;overflow-x:auto;line-height:normal;font-family:Menlo,'DejaVu Sans Mono',consolas,'Courier New',monospace\">┏━━━━━━━━━━━━━━━━━━━━━━━━━━━━━━━━━┳━━━━━━━━━━━━━━━━━━━━━━━━┳━━━━━━━━━━━━━━━┓\n",
              "┃<span style=\"font-weight: bold\"> Layer (type)                    </span>┃<span style=\"font-weight: bold\"> Output Shape           </span>┃<span style=\"font-weight: bold\">       Param # </span>┃\n",
              "┡━━━━━━━━━━━━━━━━━━━━━━━━━━━━━━━━━╇━━━━━━━━━━━━━━━━━━━━━━━━╇━━━━━━━━━━━━━━━┩\n",
              "│ dense_3 (<span style=\"color: #0087ff; text-decoration-color: #0087ff\">Dense</span>)                 │ (<span style=\"color: #00af00; text-decoration-color: #00af00\">128</span>, <span style=\"color: #00af00; text-decoration-color: #00af00\">1</span>)               │             <span style=\"color: #00af00; text-decoration-color: #00af00\">3</span> │\n",
              "└─────────────────────────────────┴────────────────────────┴───────────────┘\n",
              "</pre>\n"
            ]
          },
          "metadata": {}
        },
        {
          "output_type": "display_data",
          "data": {
            "text/plain": [
              "\u001b[1m Total params: \u001b[0m\u001b[38;5;34m8\u001b[0m (32.00 B)\n"
            ],
            "text/html": [
              "<pre style=\"white-space:pre;overflow-x:auto;line-height:normal;font-family:Menlo,'DejaVu Sans Mono',consolas,'Courier New',monospace\"><span style=\"font-weight: bold\"> Total params: </span><span style=\"color: #00af00; text-decoration-color: #00af00\">8</span> (32.00 B)\n",
              "</pre>\n"
            ]
          },
          "metadata": {}
        },
        {
          "output_type": "display_data",
          "data": {
            "text/plain": [
              "\u001b[1m Trainable params: \u001b[0m\u001b[38;5;34m3\u001b[0m (12.00 B)\n"
            ],
            "text/html": [
              "<pre style=\"white-space:pre;overflow-x:auto;line-height:normal;font-family:Menlo,'DejaVu Sans Mono',consolas,'Courier New',monospace\"><span style=\"font-weight: bold\"> Trainable params: </span><span style=\"color: #00af00; text-decoration-color: #00af00\">3</span> (12.00 B)\n",
              "</pre>\n"
            ]
          },
          "metadata": {}
        },
        {
          "output_type": "display_data",
          "data": {
            "text/plain": [
              "\u001b[1m Non-trainable params: \u001b[0m\u001b[38;5;34m0\u001b[0m (0.00 B)\n"
            ],
            "text/html": [
              "<pre style=\"white-space:pre;overflow-x:auto;line-height:normal;font-family:Menlo,'DejaVu Sans Mono',consolas,'Courier New',monospace\"><span style=\"font-weight: bold\"> Non-trainable params: </span><span style=\"color: #00af00; text-decoration-color: #00af00\">0</span> (0.00 B)\n",
              "</pre>\n"
            ]
          },
          "metadata": {}
        },
        {
          "output_type": "display_data",
          "data": {
            "text/plain": [
              "\u001b[1m Optimizer params: \u001b[0m\u001b[38;5;34m5\u001b[0m (20.00 B)\n"
            ],
            "text/html": [
              "<pre style=\"white-space:pre;overflow-x:auto;line-height:normal;font-family:Menlo,'DejaVu Sans Mono',consolas,'Courier New',monospace\"><span style=\"font-weight: bold\"> Optimizer params: </span><span style=\"color: #00af00; text-decoration-color: #00af00\">5</span> (20.00 B)\n",
              "</pre>\n"
            ]
          },
          "metadata": {}
        }
      ]
    },
    {
      "cell_type": "markdown",
      "metadata": {
        "id": "aaUdHXB-vWWy"
      },
      "source": [
        "#### Picking a loss function"
      ]
    },
    {
      "cell_type": "markdown",
      "metadata": {
        "id": "ehVaKcPlvWWy"
      },
      "source": [
        "#### Understanding the fit method"
      ]
    },
    {
      "cell_type": "code",
      "execution_count": 109,
      "metadata": {
        "id": "6dniFuyGvWWy",
        "outputId": "e52a8b18-b8bd-4463-9b8b-2fae6d61eddb",
        "colab": {
          "base_uri": "https://localhost:8080/"
        }
      },
      "outputs": [
        {
          "output_type": "stream",
          "name": "stdout",
          "text": [
            "Epoch 1/5\n",
            "\u001b[1m16/16\u001b[0m \u001b[32m━━━━━━━━━━━━━━━━━━━━\u001b[0m\u001b[37m\u001b[0m \u001b[1m1s\u001b[0m 36ms/step - binary_accuracy: 0.6655 - loss: 0.6316\n",
            "Epoch 2/5\n",
            "\u001b[1m16/16\u001b[0m \u001b[32m━━━━━━━━━━━━━━━━━━━━\u001b[0m\u001b[37m\u001b[0m \u001b[1m0s\u001b[0m 2ms/step - binary_accuracy: 0.6815 - loss: 0.5291\n",
            "Epoch 3/5\n",
            "\u001b[1m16/16\u001b[0m \u001b[32m━━━━━━━━━━━━━━━━━━━━\u001b[0m\u001b[37m\u001b[0m \u001b[1m0s\u001b[0m 1ms/step - binary_accuracy: 0.6975 - loss: 0.4513\n",
            "Epoch 4/5\n",
            "\u001b[1m16/16\u001b[0m \u001b[32m━━━━━━━━━━━━━━━━━━━━\u001b[0m\u001b[37m\u001b[0m \u001b[1m0s\u001b[0m 1ms/step - binary_accuracy: 0.7190 - loss: 0.3843\n",
            "Epoch 5/5\n",
            "\u001b[1m16/16\u001b[0m \u001b[32m━━━━━━━━━━━━━━━━━━━━\u001b[0m\u001b[37m\u001b[0m \u001b[1m0s\u001b[0m 1ms/step - binary_accuracy: 0.7370 - loss: 0.3263\n"
          ]
        }
      ],
      "source": [
        "history = model.fit(\n",
        "    inputs,\n",
        "    targets,\n",
        "    epochs=5,\n",
        "    batch_size=128,\n",
        ")"
      ]
    },
    {
      "cell_type": "code",
      "execution_count": 111,
      "metadata": {
        "id": "0oARnztvvWWy",
        "outputId": "4e0ffbdd-fa87-4cb8-f5e3-2451c91271cc",
        "colab": {
          "base_uri": "https://localhost:8080/"
        }
      },
      "outputs": [
        {
          "output_type": "execute_result",
          "data": {
            "text/plain": [
              "{'binary_accuracy': [0.6654999852180481,\n",
              "  0.6815000176429749,\n",
              "  0.6974999904632568,\n",
              "  0.718999981880188,\n",
              "  0.7369999885559082],\n",
              " 'loss': [0.6315743327140808,\n",
              "  0.529139518737793,\n",
              "  0.4513467848300934,\n",
              "  0.38428813219070435,\n",
              "  0.32633736729621887]}"
            ]
          },
          "metadata": {},
          "execution_count": 111
        }
      ],
      "source": [
        "history.history"
      ]
    },
    {
      "cell_type": "markdown",
      "metadata": {
        "id": "cqsSDuanvWWy"
      },
      "source": [
        "#### Monitoring loss and metrics on validation data"
      ]
    },
    {
      "cell_type": "code",
      "execution_count": 112,
      "metadata": {
        "id": "zc_zVXr8vWWy",
        "outputId": "e6387ddd-e649-4b91-a6d3-4772bf996a0e",
        "colab": {
          "base_uri": "https://localhost:8080/"
        }
      },
      "outputs": [
        {
          "output_type": "stream",
          "name": "stdout",
          "text": [
            "Epoch 1/5\n",
            "\u001b[1m88/88\u001b[0m \u001b[32m━━━━━━━━━━━━━━━━━━━━\u001b[0m\u001b[37m\u001b[0m \u001b[1m1s\u001b[0m 13ms/step - binary_accuracy: 0.9364 - loss: 0.1126 - val_binary_accuracy: 0.9300 - val_loss: 0.0925\n",
            "Epoch 2/5\n",
            "\u001b[1m88/88\u001b[0m \u001b[32m━━━━━━━━━━━━━━━━━━━━\u001b[0m\u001b[37m\u001b[0m \u001b[1m0s\u001b[0m 1ms/step - binary_accuracy: 0.9657 - loss: 0.0699 - val_binary_accuracy: 0.9817 - val_loss: 0.0608\n",
            "Epoch 3/5\n",
            "\u001b[1m88/88\u001b[0m \u001b[32m━━━━━━━━━━━━━━━━━━━━\u001b[0m\u001b[37m\u001b[0m \u001b[1m0s\u001b[0m 2ms/step - binary_accuracy: 0.9586 - loss: 0.0749 - val_binary_accuracy: 0.8467 - val_loss: 0.1528\n",
            "Epoch 4/5\n",
            "\u001b[1m88/88\u001b[0m \u001b[32m━━━━━━━━━━━━━━━━━━━━\u001b[0m\u001b[37m\u001b[0m \u001b[1m0s\u001b[0m 1ms/step - binary_accuracy: 0.9557 - loss: 0.0667 - val_binary_accuracy: 0.9833 - val_loss: 0.0874\n",
            "Epoch 5/5\n",
            "\u001b[1m88/88\u001b[0m \u001b[32m━━━━━━━━━━━━━━━━━━━━\u001b[0m\u001b[37m\u001b[0m \u001b[1m0s\u001b[0m 1ms/step - binary_accuracy: 0.9550 - loss: 0.0722 - val_binary_accuracy: 0.9967 - val_loss: 0.0283\n"
          ]
        },
        {
          "output_type": "execute_result",
          "data": {
            "text/plain": [
              "<keras.src.callbacks.history.History at 0x789e08ca4f80>"
            ]
          },
          "metadata": {},
          "execution_count": 112
        }
      ],
      "source": [
        "model = keras.Sequential([keras.layers.Dense(1)])\n",
        "model.compile(\n",
        "    optimizer=keras.optimizers.RMSprop(learning_rate=0.1),\n",
        "    loss=keras.losses.MeanSquaredError(),\n",
        "    metrics=[keras.metrics.BinaryAccuracy()],\n",
        ")\n",
        "\n",
        "indices_permutation = np.random.permutation(len(inputs))\n",
        "shuffled_inputs = inputs[indices_permutation]\n",
        "shuffled_targets = targets[indices_permutation]\n",
        "\n",
        "num_validation_samples = int(0.3 * len(inputs))\n",
        "val_inputs = shuffled_inputs[:num_validation_samples]\n",
        "val_targets = shuffled_targets[:num_validation_samples]\n",
        "training_inputs = shuffled_inputs[num_validation_samples:]\n",
        "training_targets = shuffled_targets[num_validation_samples:]\n",
        "model.fit(\n",
        "    training_inputs,\n",
        "    training_targets,\n",
        "    epochs=5,\n",
        "    batch_size=16,\n",
        "    validation_data=(val_inputs, val_targets),\n",
        ")"
      ]
    },
    {
      "cell_type": "markdown",
      "metadata": {
        "id": "kq_SBDvkvWWy"
      },
      "source": [
        "#### Inference: Using a model after training"
      ]
    },
    {
      "cell_type": "code",
      "execution_count": 113,
      "metadata": {
        "id": "fuvREj4kvWWy",
        "outputId": "a0adf44b-f874-45bf-dc61-8db793e4e5db",
        "colab": {
          "base_uri": "https://localhost:8080/"
        }
      },
      "outputs": [
        {
          "output_type": "stream",
          "name": "stdout",
          "text": [
            "\u001b[1m5/5\u001b[0m \u001b[32m━━━━━━━━━━━━━━━━━━━━\u001b[0m\u001b[37m\u001b[0m \u001b[1m0s\u001b[0m 17ms/step\n",
            "[[ 1.0021441 ]\n",
            " [ 0.06499824]\n",
            " [ 0.94431746]\n",
            " [-0.24229121]\n",
            " [ 0.72833824]\n",
            " [-0.07662714]\n",
            " [ 0.8870828 ]\n",
            " [ 0.84112215]\n",
            " [ 1.083311  ]\n",
            " [ 0.25199685]]\n"
          ]
        }
      ],
      "source": [
        "predictions = model.predict(val_inputs, batch_size=128)\n",
        "print(predictions[:10])"
      ]
    },
    {
      "cell_type": "code",
      "source": [],
      "metadata": {
        "id": "b2GZad3YNDP1"
      },
      "execution_count": null,
      "outputs": []
    }
  ],
  "metadata": {
    "colab": {
      "name": "chapter03_introduction-to-ml-frameworks",
      "provenance": []
    },
    "kernelspec": {
      "display_name": "Python 3",
      "name": "python3"
    },
    "language_info": {
      "codemirror_mode": {
        "name": "ipython",
        "version": 3
      },
      "file_extension": ".py",
      "mimetype": "text/x-python",
      "name": "python",
      "nbconvert_exporter": "python",
      "pygments_lexer": "ipython3",
      "version": "3.10.0"
    }
  },
  "nbformat": 4,
  "nbformat_minor": 0
}